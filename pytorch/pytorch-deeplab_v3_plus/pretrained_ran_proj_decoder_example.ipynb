{
  "nbformat": 4,
  "nbformat_minor": 0,
  "metadata": {
    "accelerator": "GPU",
    "colab": {
      "name": "pretrained_ran_proj_decoder_example.ipynb",
      "provenance": [],
      "collapsed_sections": [],
      "machine_shape": "hm"
    },
    "kernelspec": {
      "display_name": "Python 3",
      "name": "python3"
    }
  },
  "cells": [
    {
      "cell_type": "code",
      "metadata": {
        "id": "qq0-HDomg_rh"
      },
      "source": [
        "!git clone --recurse-submodules https://github.com/Ryan-Qiyu-Jiang/stereo_segmentation.git\n",
        "%cd /content/stereo_segmentation/"
      ],
      "execution_count": null,
      "outputs": []
    },
    {
      "cell_type": "code",
      "metadata": {
        "id": "OXWx20uihF-4"
      },
      "source": [
        "%cd /content/stereo_segmentation/rloss/pytorch/wrapper/bilateralfilter\n",
        "!apt-get install swig -y\n",
        "!swig -python -c++ bilateralfilter.i\n",
        "!python setup.py install"
      ],
      "execution_count": null,
      "outputs": []
    },
    {
      "cell_type": "code",
      "metadata": {
        "colab": {
          "base_uri": "https://localhost:8080/"
        },
        "id": "ankWWTGyhd9p",
        "outputId": "c050f478-fe7d-4a10-8fb2-013f217419bd"
      },
      "source": [
        "%cd /content/stereo_segmentation/rloss/data/VOC2012/"
      ],
      "execution_count": null,
      "outputs": [
        {
          "output_type": "stream",
          "text": [
            "/content/stereo_segmentation/rloss/data/VOC2012\n"
          ],
          "name": "stdout"
        }
      ]
    },
    {
      "cell_type": "code",
      "metadata": {
        "id": "ncVlBw1sJ8ZU"
      },
      "source": [
        "# from google.colab import drive\n",
        "# drive.mount('/gdrive')"
      ],
      "execution_count": null,
      "outputs": []
    },
    {
      "cell_type": "code",
      "metadata": {
        "id": "g_JeVWuQ6ztQ"
      },
      "source": [
        "# rm -r JPEGImages"
      ],
      "execution_count": null,
      "outputs": []
    },
    {
      "cell_type": "code",
      "metadata": {
        "id": "qwy_PwtceQSA"
      },
      "source": [
        "# !cp '/gdrive/My Drive/VOCtrainval_11-May-2012.tar' ./\n",
        "# !tar -xvf VOCtrainval_11-May-2012.tar\n",
        "# !ln -s VOCdevkit/VOC2012/JPEGImages JPEGImages"
      ],
      "execution_count": null,
      "outputs": []
    },
    {
      "cell_type": "code",
      "metadata": {
        "id": "2NdXbUISh7Db"
      },
      "source": [
        "!./fetchVOC2012.sh"
      ],
      "execution_count": null,
      "outputs": []
    },
    {
      "cell_type": "code",
      "metadata": {
        "id": "N5LTeD-nh8yd"
      },
      "source": [
        "%cd /content/stereo_segmentation/rloss/data/pascal_scribble/\n",
        "! ./fetchPascalScribble.sh"
      ],
      "execution_count": null,
      "outputs": []
    },
    {
      "cell_type": "code",
      "metadata": {
        "id": "tZeBz064leBV"
      },
      "source": [
        "# %cd /content/stereo_segmentation\n",
        "# !git pull --recurse-submodules"
      ],
      "execution_count": null,
      "outputs": []
    },
    {
      "cell_type": "code",
      "metadata": {
        "id": "DpsPdR6vmD7q"
      },
      "source": [
        "!pip install -qqq tensorboardX\n",
        "!pip install -qqq wandb\n",
        "!pip install -qqq pytorch-lightning"
      ],
      "execution_count": null,
      "outputs": []
    },
    {
      "cell_type": "code",
      "metadata": {
        "colab": {
          "base_uri": "https://localhost:8080/"
        },
        "id": "pgnc5sSRuu-8",
        "outputId": "4b898375-6c78-43c1-b3a0-1c3b9ac7a10b"
      },
      "source": [
        "%cd /content/stereo_segmentation/rloss/pytorch/pytorch-deeplab_v3_plus\n",
        "from trainer_pl import SegModel, get_args, Mutiscale_Seg_Model, Variable_Bandwidth_Model\n",
        "from dataloaders import make_data_loader"
      ],
      "execution_count": null,
      "outputs": [
        {
          "output_type": "stream",
          "text": [
            "/content/stereo_segmentation/rloss/pytorch/pytorch-deeplab_v3_plus\n"
          ],
          "name": "stdout"
        }
      ]
    },
    {
      "cell_type": "code",
      "metadata": {
        "id": "9ooK61xBgPiS"
      },
      "source": [
        "import argparse\n",
        "import os\n",
        "import numpy as np\n",
        "from tqdm import tqdm\n",
        "\n",
        "from mypath import Path\n",
        "from dataloaders import make_data_loader\n",
        "from dataloaders.custom_transforms import denormalizeimage\n",
        "from modeling.sync_batchnorm.replicate import patch_replication_callback\n",
        "from modeling.deeplab import *\n",
        "from utils.loss import SegmentationLosses\n",
        "from utils.calculate_weights import calculate_weigths_labels\n",
        "from utils.lr_scheduler import LR_Scheduler\n",
        "from utils.saver import Saver\n",
        "from utils.summaries import TensorboardSummary\n",
        "from utils.metrics import Evaluator\n",
        "from dataloaders.utils import decode_seg_map_sequence\n",
        "\n",
        "from DenseCRFLossLog import DenseCRFLoss as DenseCRFLossLog\n",
        "from DenseCRFLoss import DenseCRFLoss\n",
        "\n",
        "import matplotlib\n",
        "import matplotlib.cm\n",
        "from torchvision.utils import make_grid\n",
        "from torch.nn import functional as F\n",
        "import pytorch_lightning as pl\n",
        "from torch import nn\n",
        "import torch\n",
        "from argparse import Namespace\n",
        "from dataloaders.utils import decode_seg_map_sequence\n",
        "\n",
        "def colorize(value, vmin=None, vmax=None, cmap=None):\n",
        "    vmin = value.min() if vmin is None else vmin\n",
        "    vmax = value.max() if vmax is None else vmax\n",
        "    if vmin!=vmax:\n",
        "        value = (value - vmin) / (vmax - vmin) # vmin..vmax\n",
        "    else:\n",
        "        # Avoid 0-division\n",
        "        value = value*0.\n",
        "    # squeeze last dim if it exists\n",
        "    value = value.squeeze()\n",
        "\n",
        "    cmapper = matplotlib.cm.get_cmap(cmap)\n",
        "    value = cmapper(value,bytes=False) # (nxmx4)\n",
        "    return value"
      ],
      "execution_count": null,
      "outputs": []
    },
    {
      "cell_type": "code",
      "metadata": {
        "id": "VIKGGuZPv_73"
      },
      "source": [
        "from dataloaders.utils import decode_seg_map_sequence\n",
        "\n",
        "segmentation_classes = [\n",
        "    'background','aeroplane','bicycle','bird','boat','bottle',\n",
        "    'bus','car','cat','chair','cow','diningtable','dog','horse',\n",
        "    'motorbike','person','pottedplant','sheep','sofa','train','tvmonitor'\n",
        "]\n",
        "\n",
        "def labels():\n",
        "  l = {}\n",
        "  for i, label in enumerate(segmentation_classes):\n",
        "    l[i] = label\n",
        "  return l\n",
        "\n",
        "def wb_mask(bg_img, pred_mask, true_mask):\n",
        "  return wandb.Image(bg_img, masks={\n",
        "    \"prediction\" : {\"mask_data\" : pred_mask, \"class_labels\" : labels()},\n",
        "    \"ground truth\" : {\"mask_data\" : true_mask, \"class_labels\" : labels()}})\n",
        "\n",
        "class SegModel(pl.LightningModule):\n",
        "    def __init__(self, hparams, nclass=21, num_img_tr=800, load_model=True):\n",
        "        super().__init__()\n",
        "        if not hparams:\n",
        "            print('Loading default hyperparams!')\n",
        "            hparams = Namespace(**get_args())\n",
        "        if type(hparams) is dict:\n",
        "            print('Converting hparam dict to namespace!')\n",
        "            hparams = Namespace(**hparams)\n",
        "        self.hparams = hparams\n",
        "        self.update_loggers()\n",
        "        self.lr = hparams.lr\n",
        "        self.nclass = nclass\n",
        "        self.hparams.nclass = nclass\n",
        "        self.hparams.num_img_tr = num_img_tr\n",
        "        self.num_img_tr = num_img_tr\n",
        "        self.best_pred = 0.0\n",
        "        self.logit_scale = None\n",
        "        self.entropy_weight = 2e-9\n",
        "        self.log_counter = 0\n",
        "        self.val_img_logs = []\n",
        "        self.evaluator = Evaluator(self.nclass)\n",
        "        kwargs = {'num_workers': hparams.workers, 'pin_memory': True}\n",
        "        # self.train_loader, self.val_loader, self.test_loader, self.nclass = make_data_loader(self.hparams, **kwargs)\n",
        "        if load_model:\n",
        "            self.model = DeepLab(num_classes=self.nclass,\n",
        "                            backbone=self.hparams.backbone,\n",
        "                            output_stride=self.hparams.out_stride,\n",
        "                            sync_bn=self.hparams.sync_bn,\n",
        "                            freeze_bn=self.hparams.freeze_bn)\n",
        "\n",
        "        if self.hparams.use_balanced_weights:\n",
        "            classes_weights_path = os.path.join(Path.db_root_dir(self.hparams.dataset), self.hparams.dataset+'_classes_weights.npy')\n",
        "            if os.path.isfile(classes_weights_path):\n",
        "                weight = np.load(classes_weights_path)\n",
        "            else:\n",
        "                weight = calculate_weigths_labels(self.hparams.dataset, self.train_loader, self.nclass)\n",
        "            weight = torch.from_numpy(weight.astype(np.float32))\n",
        "        else:\n",
        "            weight = None\n",
        "        self.criterion = SegmentationLosses(weight=weight, cuda=self.hparams.cuda).build_loss(mode=self.hparams.loss_type)\n",
        "        self.densecrflosslayer = DenseCRFLoss(weight=1, sigma_rgb=self.hparams.sigma_rgb, sigma_xy=self.hparams.sigma_xy, scale_factor=self.hparams.rloss_scale)\n",
        "        \n",
        "        self.evaluator = Evaluator(self.nclass)\n",
        "\n",
        "        # Clear start epoch if fine-tuning\n",
        "        if self.hparams.ft:\n",
        "            self.hparams.start_epoch = 0\n",
        "\n",
        "        self.save_hyperparameters()\n",
        "\n",
        "    def log(self, name, value):\n",
        "      self.logger.experiment.log({name : value})\n",
        "\n",
        "    def update_loggers(self):\n",
        "        self.saver = Saver(self.hparams)\n",
        "        self.saver.save_experiment_config()\n",
        "        self.summary = TensorboardSummary(self.saver.experiment_dir)\n",
        "        self.writer = self.summary.create_summary()\n",
        "\n",
        "    def forward(self, x):\n",
        "        return self.model(x) \n",
        "\n",
        "    def configure_optimizers(self):\n",
        "        train_params = [{'params': self.model.get_1x_lr_params(), 'lr': self.lr},\n",
        "                        {'params': self.model.get_10x_lr_params(), 'lr': self.lr * 10}]\n",
        "        self.optimizer = torch.optim.SGD(train_params, momentum=self.hparams.momentum, \n",
        "                                                weight_decay=self.hparams.weight_decay, \n",
        "                                                nesterov=self.hparams.nesterov)\n",
        "        self.scheduler = LR_Scheduler(self.hparams.lr_scheduler, self.hparams.lr,\n",
        "                                            self.hparams.epochs, self.num_img_tr)\n",
        "        return self.optimizer #[self.optimizer], [self.scheduler]\n",
        "\n",
        "    def get_loss_val(self, batch, batch_idx):\n",
        "        image, target = batch['image'], batch['label']\n",
        "        # global_step = batch_idx + self.num_img_tr * self.val_counter\n",
        "        croppings = (target!=254).float()\n",
        "        target[target==254]=255\n",
        "\n",
        "        output = self.model(image)\n",
        "        celoss = self.criterion(output, target)\n",
        "\n",
        "        flat_output = decode_seg_map_sequence(torch.max(output[:3], 1)[1].detach().cpu().numpy(),\n",
        "                                                    dataset=self.hparams.dataset)\n",
        "        # self.logger.experiment.log({'val/Image-output-target':[wandb.Image(image[0]), wandb.Image(flat_output[0]), wandb.Image(target[0])] }, commit=False)\n",
        "        # img_overlay = 0.3*image[:3].clone().cpu().data + 0.7*flat_output\n",
        "        # self.logger.experiment.log({'val/Overlay':wandb.Image(img_overlay)}, commit=False)\n",
        "        mask = torch.max(output[:1],1)[1].detach()\n",
        "        self.val_img_logs += [wb_mask(image[0].cpu().numpy().transpose([1,2,0]), mask[0].cpu().numpy(), target[0].cpu().numpy())]\n",
        "\n",
        "        pred = output.data.cpu().numpy()\n",
        "        pred = np.argmax(pred, axis=1)\n",
        "        target = target.cpu().numpy()\n",
        "        self.evaluator.add_batch(target, pred)\n",
        "        result = {\n",
        "          'ce_loss': celoss\n",
        "        }\n",
        "        return result\n",
        "\n",
        "    def validation_summary(self, outputs):\n",
        "      test_loss = 0.0\n",
        "      masks = self.val_img_logs\n",
        "      self.val_img_logs = []\n",
        "      print(len(masks))\n",
        "      for output in outputs:\n",
        "        test_loss += output['ce_loss']\n",
        "\n",
        "      # Fast test during the training\n",
        "      Acc = self.evaluator.Pixel_Accuracy()\n",
        "      Acc_class = self.evaluator.Pixel_Accuracy_Class()\n",
        "      mIoU = self.evaluator.Mean_Intersection_over_Union()\n",
        "      FWIoU = self.evaluator.Frequency_Weighted_Intersection_over_Union()\n",
        "      if len(masks)>10:\n",
        "        self.logger.experiment.log({'val/Examples':masks[:50]}, commit=False)\n",
        "      self.logger.experiment.log({'val/mIoU': mIoU}, commit=False)\n",
        "      self.logger.experiment.log({'val/Acc': Acc}, commit=False)\n",
        "      self.logger.experiment.log({'val/Acc_class': Acc_class}, commit=False)\n",
        "      self.logger.experiment.log({'val/fwIoU': FWIoU}, commit=False)\n",
        "      self.logger.experiment.log({'val/loss_epoch': test_loss.item()})\n",
        "      print('Validation:')\n",
        "      print(\"Acc:{}, Acc_class:{}, mIoU:{}, fwIoU: {}\".format(Acc, Acc_class, mIoU, FWIoU))\n",
        "      print('Loss: %.3f' % test_loss)\n",
        "      self.evaluator.reset()\n",
        "\n",
        "    def validation_epoch_end(self, validation_step_outputs):\n",
        "      self.validation_summary(validation_step_outputs)\n",
        "\n",
        "    def get_loss(self, batch, batch_idx):\n",
        "        i = batch_idx\n",
        "        epoch = self.current_epoch\n",
        "        sample = batch\n",
        "        num_img_tr = self.num_img_tr\n",
        "        global_step = i + num_img_tr * epoch\n",
        "        image, target = sample['image'], sample['label']\n",
        "        croppings = (target!=254).float()\n",
        "        target[target==254]=255\n",
        "        num_logs = 50\n",
        "        do_log = i%50==0 #(i % (num_img_tr // num_logs) == 0 or (self.detailed_early and (i + num_img_tr * epoch) < 100 and (i%5)==0))\n",
        "        self.scheduler(self.optimizer, i, epoch, self.best_pred)\n",
        "        self.optimizer.zero_grad()\n",
        "        output = self.model(image)\n",
        "        \n",
        "        celoss = self.criterion(output, target)\n",
        "        if self.hparams.densecrfloss ==0:\n",
        "            probs = nn.Softmax(dim=1)(output)\n",
        "            entropy = torch.sum(-probs*torch.log(probs+1e-9))\n",
        "            loss = celoss + self.entropy_weight*entropy\n",
        "            self.logger.experiment.log({'train/entropy': entropy.item()}, commit=False)\n",
        "        else:\n",
        "            self.densecrflosslayer = self.densecrflosslayer.to('cpu')\n",
        "            max_output = (max(torch.abs(torch.max(output)), \n",
        "                                torch.abs(torch.min(output))))\n",
        "            mean_output = torch.mean(torch.abs(output)).item()\n",
        "            if self.logit_scale is None:\n",
        "                probs = nn.Softmax(dim=1)(output) # /max_output*4\n",
        "            else:\n",
        "                probs = nn.Softmax(dim=1)(output/max_output*self.logit_scale)\n",
        "            denormalized_image = denormalizeimage(sample['image'], mean=(0.485, 0.456, 0.406), std=(0.229, 0.224, 0.225))\n",
        "            densecrfloss = self.hparams.densecrfloss*self.densecrflosslayer(denormalized_image,probs,croppings)\n",
        "            if self.hparams.cuda:\n",
        "                densecrfloss = densecrfloss.cuda()\n",
        "            loss = celoss + densecrfloss\n",
        "\n",
        "            \"\"\"All the code under here is for logging.\n",
        "            \"\"\"\n",
        "            logits_copy = output.detach().clone().requires_grad_(True)\n",
        "            max_output_copy = (max(torch.abs(torch.max(logits_copy)), \n",
        "                                torch.abs(torch.min(logits_copy))))\n",
        "            probs_copy = nn.Softmax(dim=1)(logits_copy) # /max_output_copy*4\n",
        "            denormalized_image_copy = denormalized_image.detach().clone()\n",
        "            croppings_copy = croppings.detach().clone()\n",
        "            densecrfloss_copy = self.hparams.densecrfloss*self.densecrflosslayer(denormalized_image_copy, probs_copy, croppings_copy)\n",
        "\n",
        "            @torch.no_grad()\n",
        "            def add_grad_map(grad, plot_name):\n",
        "                if do_log:\n",
        "                    global_step = i + num_img_tr * epoch\n",
        "                    batch_grads = torch.max(torch.abs(grad), dim=1)[0].detach().cpu().numpy()\n",
        "                    color_imgs = []\n",
        "                    for grad_img in batch_grads:\n",
        "                        grad_img[0,0]=0\n",
        "                        img = colorize(grad_img)[:,:,:3]\n",
        "                        color_imgs.append(img)\n",
        "                    color_imgs = torch.from_numpy(np.array(color_imgs).transpose([0, 3, 1, 2]))\n",
        "                    # grid_image = make_grid(color_imgs[:3], 3, normalize=False, range=(0, 255))\n",
        "                    self.logger.experiment.log({plot_name:wandb.Image(color_imgs[:3])}, commit=False) \n",
        "                    # self.writer.add_image(plot_name, grid_image, global_step)\n",
        "\n",
        "            def add_probs_map(grad, class_idx):\n",
        "              if do_log:\n",
        "                global_step = i + num_img_tr * epoch\n",
        "                batch_grads = grad[:,class_idx,::].detach().cpu().numpy()\n",
        "                color_imgs = []\n",
        "                for grad_img in batch_grads:\n",
        "                    grad_img[0,0]=0\n",
        "                    img = colorize(grad_img)[:,:,:3]\n",
        "                    color_imgs.append(img)\n",
        "                color_imgs = torch.from_numpy(np.array(color_imgs).transpose([0, 3, 1, 2]))\n",
        "                # grid_image = make_grid(color_imgs[:3], 3, normalize=False, range=(0, 255))\n",
        "                self.logger.experiment.log({'Grad Probs {}'.format(class_idx) : wandb.Image(color_imgs[:3])}, commit=False)\n",
        "                # self.writer.add_image('Grad Probs {}'.format(class_idx), grid_image, global_step)\n",
        "\n",
        "            output.register_hook(lambda grad: add_grad_map(grad, 'Grad Logits')) \n",
        "            probs.register_hook(lambda grad: add_grad_map(grad, 'Grad Probs')) \n",
        "            probs.register_hook(lambda grad: add_probs_map(grad, 0)) \n",
        "            \n",
        "            logits_copy.register_hook(lambda grad: add_grad_map(grad, 'Grad Logits Rloss')) \n",
        "            densecrfloss_copy.backward()\n",
        "            self.logger.experiment.log({'train/rloss': densecrfloss.item()}, commit=False)\n",
        "\n",
        "        if do_log:\n",
        "            global_step = i + num_img_tr * epoch\n",
        "            probs = nn.Softmax(dim=1)(output)\n",
        "            img_entropy = torch.sum(-probs*torch.log(probs+1e-9), dim=1).detach().cpu().numpy()\n",
        "            color_imgs = []\n",
        "            for e in img_entropy:\n",
        "                e[0,0] = 0\n",
        "                img = colorize(e)[:,:,:3]\n",
        "                color_imgs.append(img)\n",
        "            color_imgs = torch.from_numpy(np.array(color_imgs).transpose([0, 3, 1, 2]))\n",
        "            flat_output = decode_seg_map_sequence(torch.max(output[:3], 1)[1].detach().cpu().numpy(),\n",
        "                                                       dataset=self.hparams.dataset)\n",
        "            img_overlay = 0.3*image[:3].clone().cpu().data + 0.7*flat_output\n",
        "\n",
        "            self.logger.experiment.log({'Entropy':wandb.Image(color_imgs[:3])}, commit=False)\n",
        "            flat_output = decode_seg_map_sequence(torch.max(output[:3], 1)[1].detach().cpu().numpy(),\n",
        "                                                       dataset=self.hparams.dataset)\n",
        "            self.logger.experiment.log({'Image-output-target':[wandb.Image(image[0]), wandb.Image(flat_output[0]), wandb.Image(target[0])]}, commit=False)\n",
        "            img_overlay = 0.3*image[:3].clone().cpu().data + 0.7*flat_output\n",
        "            # overlay_grid = make_grid(img_overlay, 3, normalize=True)\n",
        "            self.logger.experiment.log({'Overlay':wandb.Image(img_overlay)}, commit=False)\n",
        "            bg_probs = probs[:,0,::].detach().cpu().numpy()\n",
        "            color_imgs = []\n",
        "            for prob_img in bg_probs:\n",
        "                prob_img[0,0]=0\n",
        "                img = colorize(prob_img)[:,:,:3]\n",
        "                color_imgs.append(img)\n",
        "            color_imgs = torch.from_numpy(np.array(color_imgs).transpose([0, 3, 1, 2]))\n",
        "            grid_image = make_grid(color_imgs[:3], 3, normalize=False, range=(0, 255))\n",
        "            self.logger.experiment.log({'Background Softmax':wandb.Image(color_imgs[:3])}, commit=False)\n",
        "\n",
        "        self.logger.experiment.log({'train/ce': celoss.item()}, commit=False)\n",
        "        self.logger.experiment.log({'train/total_loss': loss.item()})\n",
        "        return loss\n",
        "        \n",
        "    def training_step(self, batch, batch_idx):\n",
        "        return self.get_loss(batch, batch_idx)\n",
        "    \n",
        "    def validation_step(self, batch, batch_idx):\n",
        "        return self.get_loss_val(batch, batch_idx)\n",
        "    \n",
        "    def test_step(self, batch, batch_idx):\n",
        "        return self.get_loss_val(batch, batch_idx)\n",
        "\n",
        "    def validation(self, val_loader, epoch=0):\n",
        "        self.model.eval()\n",
        "        self.evaluator.reset()\n",
        "        tbar = tqdm(val_loader, desc='\\r')\n",
        "        test_loss = 0.0\n",
        "        for i, sample in enumerate(tbar):\n",
        "            image, target = sample['image'], sample['label']\n",
        "            target[target==254]=255\n",
        "            if image.is_cuda:\n",
        "                image, target = image.cuda(), target.cuda()\n",
        "            with torch.no_grad():\n",
        "                output = self.model(image)\n",
        "            loss = self.criterion(output, target)\n",
        "            test_loss += loss.item()\n",
        "            tbar.set_description('Test loss: %.3f' % (test_loss / (i + 1)))\n",
        "            pred = output.data.cpu().numpy()\n",
        "            target = target.cpu().numpy()\n",
        "            pred = np.argmax(pred, axis=1)\n",
        "            # Add batch sample into evaluator\n",
        "            self.evaluator.add_batch(target, pred)\n",
        "\n",
        "        # Fast test during the training\n",
        "        Acc = self.evaluator.Pixel_Accuracy()\n",
        "        Acc_class = self.evaluator.Pixel_Accuracy_Class()\n",
        "        mIoU = self.evaluator.Mean_Intersection_over_Union()\n",
        "        FWIoU = self.evaluator.Frequency_Weighted_Intersection_over_Union()\n",
        "        self.log('val/total_loss_epoch', test_loss)\n",
        "        self.log('val/mIoU', mIoU)\n",
        "        self.log('val/Acc', Acc)\n",
        "        self.log('val/Acc_class', Acc_class)\n",
        "        self.log('val/fwIoU', FWIoU)\n",
        "        print('Validation:')\n",
        "        print(\"Acc:{}, Acc_class:{}, mIoU:{}, fwIoU: {}\".format(Acc, Acc_class, mIoU, FWIoU))\n",
        "        print('Loss: %.3f' % test_loss)"
      ],
      "execution_count": null,
      "outputs": []
    },
    {
      "cell_type": "code",
      "metadata": {
        "id": "6hC5Q8BVvNSc"
      },
      "source": [
        "from argparse import Namespace\n",
        "args_dict = get_args()\n",
        "args_dict['cuda'] = True\n",
        "args_dict['checkname'] = 'ignore'\n",
        "args_dict['epochs'] = 1\n",
        "args_dict['shuffle'] = True\n",
        "args_dict['batch_size'] = 10\n",
        "args_dict['lr'] = 1e-3\n",
        "args_dict['full_gt'] = True\n",
        "args_dict['limit_dataset'] = False\n",
        "# args_dict['rloss_scale'] = 1\n",
        "args = Namespace(**args_dict)"
      ],
      "execution_count": null,
      "outputs": []
    },
    {
      "cell_type": "code",
      "metadata": {
        "colab": {
          "base_uri": "https://localhost:8080/"
        },
        "id": "TmvjJYzyvJOk",
        "outputId": "a291c8c5-f571-4e7c-ccce-feb7debc1200"
      },
      "source": [
        "kwargs = {'num_workers': 6, 'pin_memory': True}\n",
        "train_loader, val_loader, test_loader, nclass = make_data_loader(args, **kwargs)"
      ],
      "execution_count": null,
      "outputs": [
        {
          "output_type": "stream",
          "text": [
            "Number of images in train: 10582\n",
            "Number of images in val: 1449\n"
          ],
          "name": "stdout"
        }
      ]
    },
    {
      "cell_type": "code",
      "metadata": {
        "colab": {
          "base_uri": "https://localhost:8080/",
          "height": 287
        },
        "id": "_btImM4PtMVU",
        "outputId": "0021992a-aa08-4d33-a1c1-eb7be1248a31"
      },
      "source": [
        "import torch\n",
        "import matplotlib.pyplot as plt\n",
        "from torch.utils.data import random_split, DataLoader\n",
        "class SingleDataset(torch.utils.data.Dataset):\n",
        "    def __init__(self, batch, length):\n",
        "        self.batch = batch\n",
        "        self.length = length\n",
        "\n",
        "    def __getitem__(self, index):\n",
        "        return self.batch\n",
        "\n",
        "    def __len__(self):\n",
        "        return self.length\n",
        "\n",
        "class RepeatDataset(torch.utils.data.Dataset):\n",
        "    def __init__(self, batch, length):\n",
        "        self.batch = batch\n",
        "        self.length = length\n",
        "\n",
        "    def __getitem__(self, index):\n",
        "        i = index % len(batch['image'])\n",
        "        b = {\n",
        "            'image': self.batch['image'][i],\n",
        "            'label': self.batch['label'][i]\n",
        "        }\n",
        "        return b\n",
        "\n",
        "    def __len__(self):\n",
        "        return self.length\n",
        "\n",
        "batch = iter(val_loader).next()\n",
        "batch_sample = {k:v for k,v in batch.items()}\n",
        "single_dataset = RepeatDataset(batch_sample, 100*10)\n",
        "single_loader = DataLoader(single_dataset, batch_size=10, shuffle=True, num_workers=4)\n",
        "plt.imshow(batch['image'][0].numpy().transpose(1,2,0));"
      ],
      "execution_count": null,
      "outputs": [
        {
          "output_type": "stream",
          "text": [
            "Clipping input data to the valid range for imshow with RGB data ([0..1] for floats or [0..255] for integers).\n"
          ],
          "name": "stderr"
        },
        {
          "output_type": "display_data",
          "data": {
            "image/png": "[encoded data removed]",
            "text/plain": [
              "<Figure size 432x288 with 1 Axes>"
            ]
          },
          "metadata": {
            "tags": [],
            "needs_background": "light"
          }
        }
      ]
    },
    {
      "cell_type": "code",
      "metadata": {
        "id": "qpaEGYFtxVxC"
      },
      "source": [
        "from PIL import Image\n",
        "import cv2\n",
        "from torchvision import transforms\n",
        "import torchvision\n",
        "import matplotlib.pyplot as plt\n",
        "import tensorflow as tf\n",
        "import datetime, os\n",
        "from pytorch_lightning import loggers as pl_loggers\n",
        "\n",
        "import argparse\n",
        "import os\n",
        "import numpy as np\n",
        "from tqdm import tqdm\n",
        "\n",
        "from mypath import Path\n",
        "from dataloaders import make_data_loader\n",
        "from dataloaders.custom_transforms import denormalizeimage\n",
        "from modeling.sync_batchnorm.replicate import patch_replication_callback\n",
        "from modeling.deeplab import *\n",
        "from utils.loss import SegmentationLosses\n",
        "from utils.calculate_weights import calculate_weigths_labels\n",
        "from utils.lr_scheduler import LR_Scheduler\n",
        "from utils.saver import Saver\n",
        "from utils.summaries import TensorboardSummary\n",
        "from utils.metrics import Evaluator\n",
        "from dataloaders.utils import decode_seg_map_sequence\n",
        "\n",
        "from DenseCRFLossLog import DenseCRFLoss as DenseCRFLossLog\n",
        "from DenseCRFLoss import DenseCRFLoss\n",
        "\n",
        "import matplotlib\n",
        "import matplotlib.cm\n",
        "from torchvision.utils import make_grid\n",
        "from torch.nn import functional as F\n",
        "import pytorch_lightning as pl\n",
        "from torch import nn\n",
        "import torch\n",
        "from argparse import Namespace\n",
        "from dataloaders.utils import decode_seg_map_sequence\n",
        "\n",
        "def colorize(value, vmin=None, vmax=None, cmap=None):\n",
        "    vmin = value.min() if vmin is None else vmin\n",
        "    vmax = value.max() if vmax is None else vmax\n",
        "    if vmin!=vmax:\n",
        "        value = (value - vmin) / (vmax - vmin) # vmin..vmax\n",
        "    else:\n",
        "        # Avoid 0-division\n",
        "        value = value*0.\n",
        "    # squeeze last dim if it exists\n",
        "    value = value.squeeze()\n",
        "\n",
        "    cmapper = matplotlib.cm.get_cmap(cmap)\n",
        "    value = cmapper(value,bytes=False) # (nxmx4)\n",
        "    return value"
      ],
      "execution_count": null,
      "outputs": []
    },
    {
      "cell_type": "code",
      "metadata": {
        "id": "sYxGHvBBdJqN"
      },
      "source": [
        "class SimpleDecoder(SegModel):\n",
        "    def __init__(self, hparams, nclass=21, num_img_tr=800, load_model=True):\n",
        "        super().__init__(hparams, nclass, num_img_tr, load_model=True)\n",
        "        self.hparams.A = torch.randn(256, 344).cuda()/256**0.5\n",
        "        self.decoder_loss = True\n",
        "        BatchNorm = nn.BatchNorm2d\n",
        "        \n",
        "    def get_simple_decoder_loss(self, batch, batch_idx, stage='train'):\n",
        "        i = batch_idx\n",
        "        epoch = self.current_epoch\n",
        "        sample = batch\n",
        "        num_img_tr = self.num_img_tr\n",
        "        global_step = i + num_img_tr * epoch\n",
        "        image, target = sample['image'], sample['label']\n",
        "        croppings = (target!=254).float()\n",
        "        target[target==254]=255\n",
        "        num_logs = 50\n",
        "        do_log = (i % (num_img_tr // num_logs) == 0 or ((i + num_img_tr * epoch) < 100 and i%5==0))\n",
        "        self.scheduler(self.optimizer, i, epoch, self.best_pred)\n",
        "        self.optimizer.zero_grad()\n",
        "        encoder_x, encoder_low_level_feat = self.model.backbone(image)\n",
        "        x = self.model.aspp(encoder_x)\n",
        "        low_level_feat = self.model.decoder.conv1(encoder_low_level_feat)\n",
        "        low_level_feat = self.model.decoder.bn1(low_level_feat)\n",
        "        low_level_feat = self.model.decoder.relu(low_level_feat)\n",
        "\n",
        "        x = F.interpolate(x, size=low_level_feat.size()[2:], mode='bilinear', align_corners=True)\n",
        "        x = torch.cat((x, low_level_feat), dim=1)\n",
        "        y_hat = self.model.decoder.last_conv[:-1](x)\n",
        "\n",
        "        encoder_x = F.interpolate(encoder_x, size=encoder_low_level_feat.size()[2:], mode='bilinear', align_corners=True)\n",
        "        y = torch.cat((encoder_x, encoder_low_level_feat), dim=1)\n",
        "\n",
        "        s = y_hat.shape\n",
        "        y_hat = y_hat.view(s[0], s[1], s[2]*s[3])\n",
        "        s = y.shape\n",
        "        y = y.view(s[0], s[1], s[2]*s[3])\n",
        "\n",
        "        y_projects = [torch.matmul(self.hparams.A, features).unsqueeze(0) for features in y]\n",
        "        y_project = torch.cat(y_projects, dim=0)\n",
        "\n",
        "        l2_criterion = nn.MSELoss()\n",
        "        l2_loss = l2_criterion(y_hat, y_project)\n",
        "        \n",
        "        self.log('{}/mse'.format(stage), l2_loss.item())\n",
        "        return l2_loss\n",
        "\n",
        "    def training_step(self, batch, batch_idx):\n",
        "        if self.decoder_loss:\n",
        "          return self.get_simple_decoder_loss(batch, batch_idx)\n",
        "        return self.get_loss(batch, batch_idx)\n",
        "\n",
        "    def validation_step(self, batch, batch_idx):\n",
        "        if self.decoder_loss:\n",
        "          return self.get_simple_decoder_loss(batch, batch_idx, stage='val')\n",
        "        return self.get_loss_val(batch, batch_idx)\n",
        "\n",
        "    def validation_epoch_end(self, outputs):\n",
        "        if not self.decoder_loss:\n",
        "          self.validation_summary(outputs)"
      ],
      "execution_count": null,
      "outputs": []
    },
    {
      "cell_type": "code",
      "metadata": {
        "colab": {
          "base_uri": "https://localhost:8080/",
          "height": 71
        },
        "id": "hxJChtQEvPAo",
        "outputId": "29cd0b10-b5a9-4904-facb-acb48bc7fa80"
      },
      "source": [
        "import wandb\n",
        "from pytorch_lightning.loggers import WandbLogger\n",
        "wandb.login()"
      ],
      "execution_count": null,
      "outputs": [
        {
          "output_type": "display_data",
          "data": {
            "application/javascript": [
              "\n",
              "        window._wandbApiKey = new Promise((resolve, reject) => {\n",
              "            function loadScript(url) {\n",
              "            return new Promise(function(resolve, reject) {\n",
              "                let newScript = document.createElement(\"script\");\n",
              "                newScript.onerror = reject;\n",
              "                newScript.onload = resolve;\n",
              "                document.body.appendChild(newScript);\n",
              "                newScript.src = url;\n",
              "            });\n",
              "            }\n",
              "            loadScript(\"https://cdn.jsdelivr.net/npm/postmate/build/postmate.min.js\").then(() => {\n",
              "            const iframe = document.createElement('iframe')\n",
              "            iframe.style.cssText = \"width:0;height:0;border:none\"\n",
              "            document.body.appendChild(iframe)\n",
              "            const handshake = new Postmate({\n",
              "                container: iframe,\n",
              "                url: 'https://wandb.ai/authorize'\n",
              "            });\n",
              "            const timeout = setTimeout(() => reject(\"Couldn't auto authenticate\"), 5000)\n",
              "            handshake.then(function(child) {\n",
              "                child.on('authorize', data => {\n",
              "                    clearTimeout(timeout)\n",
              "                    resolve(data)\n",
              "                });\n",
              "            });\n",
              "            })\n",
              "        });\n",
              "    "
            ],
            "text/plain": [
              "<IPython.core.display.Javascript object>"
            ]
          },
          "metadata": {
            "tags": []
          }
        },
        {
          "output_type": "stream",
          "text": [
            "\u001b[34m\u001b[1mwandb\u001b[0m: Appending key for api.wandb.ai to your netrc file: /root/.netrc\n"
          ],
          "name": "stderr"
        },
        {
          "output_type": "execute_result",
          "data": {
            "text/plain": [
              "True"
            ]
          },
          "metadata": {
            "tags": []
          },
          "execution_count": 15
        }
      ]
    },
    {
      "cell_type": "code",
      "metadata": {
        "colab": {
          "background_save": true
        },
        "id": "tW3UC9dFlK6z"
      },
      "source": [
        "# train overfit batch\n",
        "for i in range(10):\n",
        "  # train decoder on random projection\n",
        "  args.batch_size = 10\n",
        "  args.limit_dataset = False\n",
        "  train_loader, val_loader, test_loader, nclass = make_data_loader(args, **kwargs)\n",
        "  model = SimpleDecoder(args, nclass=nclass, num_img_tr=len(train_loader))\n",
        "  model.decoder_loss = True\n",
        "  model.num_img_tr = len(train_loader)\n",
        "  model.hparams.densecrfloss = 0\n",
        "  model.entropy_weight = 0\n",
        "  model.hparams.lr = 0.01\n",
        "  model.hparams.epochs = 5\n",
        "  model.configure_optimizers()\n",
        "  for param in model.model.backbone.parameters():\n",
        "    param.requires_grad = False\n",
        "  \n",
        "  wandb_logger = WandbLogger(project='Pretrain-Decoder', name='5-epochs_pretrain-decoder_10_1e-2')\n",
        "  trainer = pl.Trainer(gpus=1, max_epochs=5, logger=wandb_logger, log_every_n_steps=20, num_sanity_val_steps=10, progress_bar_refresh_rate=0)\n",
        "  results = trainer.fit(model, train_loader, val_loader)\n",
        "  trainer.save_checkpoint('/content/pretrained-decoder_10_1e-2.pth')\n",
        "  wandb.finish()\n",
        "\n",
        "  # retrain full decoder on overfit batch\n",
        "  batch = iter(train_loader).next()\n",
        "  batch_sample = {k:v for k,v in batch.items()}\n",
        "  single_dataset = RepeatDataset(batch_sample, 100*10)\n",
        "  single_loader = DataLoader(single_dataset, batch_size=10, shuffle=True, num_workers=4)\n",
        "  model = SimpleDecoder.load_from_checkpoint('/content/pretrained-decoder_10_1e-2.pth')\n",
        "  model.decoder_loss = False\n",
        "  model.num_img_tr = len(single_loader)\n",
        "  model.hparams.densecrfloss = 0\n",
        "  model.entropy_weight = 0\n",
        "  model.hparams.lr = 0.007\n",
        "  model.hparams.epochs = 5\n",
        "  model.configure_optimizers()\n",
        "  for param in model.model.parameters():\n",
        "    param.requires_grad = True\n",
        "\n",
        "  wandb_logger = WandbLogger(project='Pretrain-Decoder', name='overfit_retrain-pretrained-5-decoder_10_7e-3')\n",
        "  trainer = pl.Trainer(gpus=1, max_epochs=5, logger=wandb_logger, log_every_n_steps=20, num_sanity_val_steps=10, progress_bar_refresh_rate=0)\n",
        "  results = trainer.fit(model, single_loader, single_loader)\n",
        "\n",
        "  wandb.finish()\n"
      ],
      "execution_count": null,
      "outputs": []
    },
    {
      "cell_type": "code",
      "metadata": {
        "id": "ZA95LY31FvJk"
      },
      "source": [
        "# Train on small dataset\r\n",
        "for i in range(5):\r\n",
        "  # train decoder on random projection\r\n",
        "  args.batch_size = 10\r\n",
        "  args.limit_dataset = False\r\n",
        "  train_loader, val_loader, test_loader, nclass = make_data_loader(args, **kwargs)\r\n",
        "  model = SimpleDecoder(args, nclass=nclass, num_img_tr=len(train_loader))\r\n",
        "  model.decoder_loss = True\r\n",
        "  model.num_img_tr = len(train_loader)\r\n",
        "  model.hparams.densecrfloss = 0\r\n",
        "  model.entropy_weight = 0\r\n",
        "  model.hparams.lr = 0.01\r\n",
        "  model.hparams.epochs = 15\r\n",
        "  model.configure_optimizers()\r\n",
        "  for param in model.model.backbone.parameters():\r\n",
        "    param.requires_grad = False\r\n",
        "  \r\n",
        "  wandb_logger = WandbLogger(project='Pretrain-Decoder', name='15-epochs_pretrain-decoder_10_1e-2')\r\n",
        "  trainer = pl.Trainer(gpus=1, max_epochs=15, logger=wandb_logger, log_every_n_steps=20, num_sanity_val_steps=10, progress_bar_refresh_rate=0)\r\n",
        "  results = trainer.fit(model, train_loader, val_loader)\r\n",
        "  trainer.save_checkpoint('/content/pretrained-decoder_10_1e-2.pth')\r\n",
        "  wandb.save('/content/pretrained-decoder_10_1e-2.pth.pth')\r\n",
        "  wandb.finish()\r\n",
        "\r\n",
        "  # train the last 2 layers\r\n",
        "  args.batch_size = 10\r\n",
        "  args.limit_dataset = 0.1\r\n",
        "  train_loader, val_loader, test_loader, nclass = make_data_loader(args, **kwargs)\r\n",
        "  model = SimpleDecoder.load_from_checkpoint('/content/pretrained-decoder_10_1e-2.pth')\r\n",
        "  model.decoder_loss = False\r\n",
        "  model.num_img_tr = len(train_loader)\r\n",
        "  model.hparams.densecrfloss = 0\r\n",
        "  model.entropy_weight = 0\r\n",
        "  model.hparams.lr = 0.007\r\n",
        "  model.hparams.epochs = 5\r\n",
        "  model.configure_optimizers()\r\n",
        "  for name, param in model.named_parameters():\r\n",
        "    if not 'last_conv.8' in name and not 'last_conv.5' in name and not 'last_conv.4' in name:\r\n",
        "      param.requires_grad = False\r\n",
        "    else:\r\n",
        "      param.requires_grad = True\r\n",
        "  \r\n",
        "  wandb_logger = WandbLogger(project='Pretrain-Decoder', name='5-epochs_pretrain-2-layer_10_7e-3')\r\n",
        "  trainer = pl.Trainer(gpus=1, max_epochs=5, logger=wandb_logger, log_every_n_steps=20, num_sanity_val_steps=10, progress_bar_refresh_rate=0)\r\n",
        "  results = trainer.fit(model, train_loader, val_loader)\r\n",
        "  trainer.save_checkpoint('/content/full-pretrained-decoder_10_7e-3.pth')\r\n",
        "  wandb.finish()\r\n",
        "\r\n",
        "  # retrain full decoder on small dataset\r\n",
        "  args.limit_dataset = 0.1\r\n",
        "  train_loader, val_loader, test_loader, nclass = make_data_loader(args, **kwargs)\r\n",
        "  model = SimpleDecoder.load_from_checkpoint('/content/full-pretrained-decoder_10_7e-3.pth')\r\n",
        "  model.decoder_loss = False\r\n",
        "  model.num_img_tr = len(train_loader)\r\n",
        "  model.hparams.densecrfloss = 0\r\n",
        "  model.entropy_weight = 0\r\n",
        "  model.hparams.lr = 0.007\r\n",
        "  model.hparams.epochs = 15\r\n",
        "  model.configure_optimizers()\r\n",
        "  for param in model.model.parameters():\r\n",
        "    param.requires_grad = True\r\n",
        "\r\n",
        "  wandb_logger = WandbLogger(project='Pretrain-Decoder', name='small_retrain-fully-pretrained-15-decoder_10_7e-3')\r\n",
        "  trainer = pl.Trainer(gpus=1, max_epochs=15, logger=wandb_logger, log_every_n_steps=20, num_sanity_val_steps=10, progress_bar_refresh_rate=0)\r\n",
        "  results = trainer.fit(model, train_loader, val_loader)\r\n",
        "\r\n",
        "  wandb.finish()\r\n"
      ],
      "execution_count": null,
      "outputs": []
    }
  ]
}